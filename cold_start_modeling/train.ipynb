{
 "cells": [
  {
   "cell_type": "code",
   "execution_count": 26,
   "metadata": {},
   "outputs": [],
   "source": [
    "import pickle\n",
    "import pandas as pd\n",
    "import numpy as np"
   ]
  },
  {
   "cell_type": "code",
   "execution_count": 27,
   "metadata": {},
   "outputs": [],
   "source": [
    "from scipy.sparse import csr_matrix\n",
    "lil = pickle.load(open('lil.pkl', 'rb'))\n",
    "csr  = csr_matrix(lil).astype(np.float32)\n",
    "target = pd.read_csv('target.csv')['target']"
   ]
  },
  {
   "cell_type": "code",
   "execution_count": 28,
   "metadata": {},
   "outputs": [
    {
     "name": "stdout",
     "output_type": "stream",
     "text": [
      "(48444, 300054)\n",
      "9045387\n"
     ]
    }
   ],
   "source": [
    "print(lil.shape)\n",
    "print(lil.nnz)"
   ]
  },
  {
   "cell_type": "code",
   "execution_count": 34,
   "metadata": {},
   "outputs": [
    {
     "name": "stdout",
     "output_type": "stream",
     "text": [
      "\n",
      "Fold 0\n",
      "Training until validation scores don't improve for 50 rounds.\n",
      "[50]\ttrain's rmse: 3.1727\tvalid's rmse: 2.72324\n",
      "[100]\ttrain's rmse: 2.99845\tvalid's rmse: 2.69233\n",
      "[150]\ttrain's rmse: 2.87179\tvalid's rmse: 2.68914\n",
      "[200]\ttrain's rmse: 2.76506\tvalid's rmse: 2.68941\n",
      "Early stopping, best iteration is:\n",
      "[181]\ttrain's rmse: 2.80125\tvalid's rmse: 2.68648\n",
      "\n",
      "Fold 1\n",
      "Training until validation scores don't improve for 50 rounds.\n",
      "[50]\ttrain's rmse: 3.0511\tvalid's rmse: 3.27362\n",
      "[100]\ttrain's rmse: 2.89026\tvalid's rmse: 3.22215\n",
      "[150]\ttrain's rmse: 2.76895\tvalid's rmse: 3.20104\n",
      "[200]\ttrain's rmse: 2.67304\tvalid's rmse: 3.1914\n",
      "[250]\ttrain's rmse: 2.58367\tvalid's rmse: 3.19224\n",
      "Early stopping, best iteration is:\n",
      "[207]\ttrain's rmse: 2.66066\tvalid's rmse: 3.18994\n",
      "\n",
      "Fold 2\n",
      "Training until validation scores don't improve for 50 rounds.\n",
      "[50]\ttrain's rmse: 3.23769\tvalid's rmse: 2.31007\n",
      "[100]\ttrain's rmse: 3.05482\tvalid's rmse: 2.27813\n",
      "[150]\ttrain's rmse: 2.92565\tvalid's rmse: 2.28158\n",
      "Early stopping, best iteration is:\n",
      "[128]\ttrain's rmse: 2.98187\tvalid's rmse: 2.27612\n",
      "\n",
      "Fold 3\n",
      "Training until validation scores don't improve for 50 rounds.\n",
      "[50]\ttrain's rmse: 2.93106\tvalid's rmse: 3.77965\n",
      "[100]\ttrain's rmse: 2.77956\tvalid's rmse: 3.73426\n",
      "[150]\ttrain's rmse: 2.66857\tvalid's rmse: 3.71539\n",
      "[200]\ttrain's rmse: 2.57967\tvalid's rmse: 3.70494\n",
      "[250]\ttrain's rmse: 2.49856\tvalid's rmse: 3.7061\n",
      "Early stopping, best iteration is:\n",
      "[208]\ttrain's rmse: 2.5667\tvalid's rmse: 3.70264\n",
      "\n",
      "Fold 4\n",
      "Training until validation scores don't improve for 50 rounds.\n",
      "[50]\ttrain's rmse: 2.91471\tvalid's rmse: 3.76972\n",
      "[100]\ttrain's rmse: 2.74378\tvalid's rmse: 3.73233\n",
      "[150]\ttrain's rmse: 2.62433\tvalid's rmse: 3.71932\n",
      "[200]\ttrain's rmse: 2.52961\tvalid's rmse: 3.71769\n",
      "Early stopping, best iteration is:\n",
      "[197]\ttrain's rmse: 2.53514\tvalid's rmse: 3.71691\n",
      "LGB OOF RMSE: 3.1653811113204\n",
      "LGB OOF MAE: 0.863103291433644\n",
      "Modeling Stage\n"
     ]
    }
   ],
   "source": [
    "\n",
    "import numpy as np\n",
    "from math import sqrt\n",
    "import lightgbm as lgb\n",
    "from sklearn.cross_validation import KFold\n",
    "from sklearn.metrics import mean_squared_error\n",
    "from sklearn.metrics import mean_absolute_error\n",
    "\n",
    "\n",
    "def get_oof(clf, x_train, y, x_test):\n",
    "    train_h, train_w = x_train.shape\n",
    "    test_h, test_w = x_test.shape\n",
    "    NFOLDS=5\n",
    "    SEED=71\n",
    "    kf = KFold(train_h, n_folds=NFOLDS, shuffle=True, random_state=SEED)\n",
    "    oof_train = np.zeros((train_h,))\n",
    "    oof_test = np.zeros((test_h,))\n",
    "    oof_test_skf = np.empty((NFOLDS, test_h))\n",
    "    lgbm_params =  {\n",
    "        'task': 'train',\n",
    "        'boosting_type': 'gbdt',\n",
    "        'objective': 'regression',\n",
    "        'metric': 'rmse',\n",
    "        # 'max_depth': 15,\n",
    "        'num_leaves': 100,\n",
    "        'feature_fraction': 0.9,\n",
    "        'bagging_fraction': 0.75,\n",
    "        'bagging_freq': 4,\n",
    "        'learning_rate': 0.016,\n",
    "        #'max_bin':1023,\n",
    "        'verbose': 0\n",
    "    }\n",
    "    for i, (train_index, test_index) in enumerate(kf):\n",
    "        print('\\nFold {}'.format(i))\n",
    "        x_tr = x_train[train_index]\n",
    "        y_tr = y[train_index]\n",
    "        y_te = y[test_index]\n",
    "        x_te = x_train[test_index]\n",
    "        lgtrain = lgb.Dataset(x_tr, y_tr)\n",
    "                    #feature_name=x_train.columns.tolist())\n",
    "        lgvalid = lgb.Dataset(x_te, y_te)\n",
    "                    #feature_name=x_train.columns.tolist())\n",
    "                    #categorical_feature = categorical)\n",
    "        lgb_clf = lgb.train(\n",
    "            lgbm_params,\n",
    "            lgtrain,\n",
    "            num_boost_round=2000,\n",
    "            valid_sets=[lgtrain, lgvalid],\n",
    "            valid_names=['train','valid'],\n",
    "            early_stopping_rounds=50,\n",
    "            verbose_eval=50\n",
    "        )\n",
    "        oof_train[test_index] = lgb_clf.predict(x_te)\n",
    "        oof_test_skf[i, :]    = lgb_clf.predict(x_test)\n",
    "\n",
    "    oof_test[:] = oof_test_skf.mean(axis=0)\n",
    "    return oof_train, oof_test\n",
    "#Ridge oof method from Faron's kernel\n",
    "#I was using this to analyze my vectorization, but figured it would be interesting to add the results back into the dataset\n",
    "#It doesn't really add much to the score, but it does help lightgbm converge faster\n",
    "oof_train, oof_test = get_oof(None, csr, target, csr)\n",
    "rms = sqrt(mean_squared_error(target, oof_train))\n",
    "print('LGB OOF RMSE: {}'.format(rms))\n",
    "mae = sqrt(mean_absolute_error(target, oof_train))\n",
    "print('LGB OOF MAE: {}'.format(mae))\n",
    "print(\"Modeling Stage\")\n"
   ]
  }
 ],
 "metadata": {
  "kernelspec": {
   "display_name": "Python 3",
   "language": "python",
   "name": "python3"
  },
  "language_info": {
   "codemirror_mode": {
    "name": "ipython",
    "version": 3
   },
   "file_extension": ".py",
   "mimetype": "text/x-python",
   "name": "python",
   "nbconvert_exporter": "python",
   "pygments_lexer": "ipython3",
   "version": "3.6.6"
  }
 },
 "nbformat": 4,
 "nbformat_minor": 2
}
